{
 "cells": [
  {
   "cell_type": "code",
   "execution_count": 1,
   "id": "0a14b41c",
   "metadata": {
    "scrolled": true
   },
   "outputs": [
    {
     "name": "stdout",
     "output_type": "stream",
     "text": [
      "\u001b[33mDEPRECATION: Configuring installation scheme with distutils config files is deprecated and will no longer work in the near future. If you are using a Homebrew or Linuxbrew Python, please see discussion at https://github.com/Homebrew/homebrew-core/issues/76621\u001b[0m\u001b[33m\n",
      "\u001b[0mRequirement already satisfied: bs4 in /opt/homebrew/lib/python3.9/site-packages (0.0.1)\n",
      "Requirement already satisfied: beautifulsoup4 in /opt/homebrew/lib/python3.9/site-packages (from bs4) (4.12.2)\n",
      "Requirement already satisfied: soupsieve>1.2 in /opt/homebrew/lib/python3.9/site-packages (from beautifulsoup4->bs4) (2.4.1)\n",
      "\u001b[33mDEPRECATION: Configuring installation scheme with distutils config files is deprecated and will no longer work in the near future. If you are using a Homebrew or Linuxbrew Python, please see discussion at https://github.com/Homebrew/homebrew-core/issues/76621\u001b[0m\u001b[33m\n",
      "\u001b[0mNote: you may need to restart the kernel to use updated packages.\n"
     ]
    }
   ],
   "source": [
    "pip install bs4"
   ]
  },
  {
   "cell_type": "code",
   "execution_count": null,
   "id": "9c624194",
   "metadata": {},
   "outputs": [],
   "source": [
    "pip install requests"
   ]
  },
  {
   "cell_type": "code",
   "execution_count": 51,
   "id": "a6b3d1ea",
   "metadata": {},
   "outputs": [],
   "source": [
    "from bs4 import BeautifulSoup\n",
    "import requests\n",
    "from faker import Faker\n",
    "import json  \n",
    "import os"
   ]
  },
  {
   "cell_type": "code",
   "execution_count": 52,
   "id": "9296a3c9",
   "metadata": {},
   "outputs": [],
   "source": [
    "def get_soup_retry(url):\n",
    "    fake = Faker()\n",
    "    uag_random = fake.user_agent()\n",
    "\n",
    "    header = {\n",
    "        'User-Agent': uag_random,\n",
    "        'Accept-Language': 'en-US,en;q=0.9'\n",
    "    }\n",
    "    isCaptcha = True\n",
    "    while isCaptcha:\n",
    "        page = requests.get(url, headers=header)\n",
    "#         print(\"PAGE STATUS CODE\", page.status_code)\n",
    "        assert page.status_code == 200\n",
    "        soup = BeautifulSoup(page.content, 'html.parser')\n",
    "        if 'captcha' in str(soup):\n",
    "            uag_random = fake.user_agent()\n",
    "#             print(f'\\rBot has been detected... retrying ... use new identity: {uag_random} ', end='', flush=True)\n",
    "            continue\n",
    "        else:\n",
    "#             print('Bot bypassed')\n",
    "            return soup"
   ]
  },
  {
   "cell_type": "code",
   "execution_count": 53,
   "id": "04e2f26c",
   "metadata": {},
   "outputs": [
    {
     "name": "stdout",
     "output_type": "stream",
     "text": [
      "Enter product URLhttps://www.amazon.in/Bacca-Bucci-Black-Orange-Running/dp/B08HNH5Q9S/ref=sr_1_1_sspa?crid=3GWBIZ74JJ9H6&keywords=shoes&qid=1689231831&s=shoes&sprefix=shoe%2Cshoes%2C215&sr=1-1-spons&sp_csd=d2lkZ2V0TmFtZT1zcF9hdGY&th=1&psc=1\n"
     ]
    }
   ],
   "source": [
    "# get input product link\n",
    "URL = input(\"Enter product URL\")\n",
    "soup = get_soup_retry(URL)\n",
    "# print(soup)\n"
   ]
  },
  {
   "cell_type": "code",
   "execution_count": 54,
   "id": "ccb3ffc7",
   "metadata": {},
   "outputs": [],
   "source": [
    "price = soup.find(\"span\", attrs={\"class\":'a-offscreen'}).get_text().strip()\n",
    "# print(price)"
   ]
  },
  {
   "cell_type": "code",
   "execution_count": 55,
   "id": "9b6f1f5a",
   "metadata": {},
   "outputs": [],
   "source": [
    "title = soup.find(\"span\", attrs={\"id\":'productTitle'}).text.strip()\n",
    "# print(title)"
   ]
  },
  {
   "cell_type": "code",
   "execution_count": 56,
   "id": "fd9f295c",
   "metadata": {},
   "outputs": [],
   "source": [
    "total_review_count = soup.find(\"div\", attrs={\"data-hook\":'total-review-count'}).text.strip()\n",
    "# print(total_review_count)"
   ]
  },
  {
   "cell_type": "code",
   "execution_count": 57,
   "id": "b7e6ca7d",
   "metadata": {},
   "outputs": [],
   "source": [
    "specs_obj={}\n",
    "specs = soup.find_all(\"tr\",{\"class\":\"a-spacing-small\"})\n",
    "for u in range(0,len(specs)):\n",
    "    spanTags = specs[u].find_all(\"span\")\n",
    "    specs_obj[spanTags[0].text]=spanTags[1].text\n",
    "    print(spanTags[0].text, spanTags[1].text)\n",
    "# print(specs_obj)    "
   ]
  },
  {
   "cell_type": "code",
   "execution_count": 58,
   "id": "76e92261",
   "metadata": {},
   "outputs": [],
   "source": [
    "about=[]\n",
    "specs = soup.find(\"ul\",{\"class\":\"a-unordered-list a-vertical a-spacing-mini\"})\n",
    "spanTags = specs.find_all(\"span\")\n",
    "for u in range(0,len(spanTags)):\n",
    "    about.append(spanTags[u].text)\n",
    "# print(about)    "
   ]
  },
  {
   "cell_type": "code",
   "execution_count": 59,
   "id": "e3b42cb8",
   "metadata": {},
   "outputs": [],
   "source": [
    "link=[]\n",
    "for i in soup.findAll(\"a\",{'data-hook':\"see-all-reviews-link-foot\"}):\n",
    "        link.append(i['href'])\n",
    "# print(link)"
   ]
  },
  {
   "cell_type": "code",
   "execution_count": 60,
   "id": "2a7720bb",
   "metadata": {},
   "outputs": [],
   "source": [
    "def Searchreviews(review_link):\n",
    "    url=\"https://www.amazon.in\"+review_link\n",
    "#     print(url)\n",
    "    return get_soup_retry(url)"
   ]
  },
  {
   "cell_type": "code",
   "execution_count": 61,
   "id": "d6faa80c",
   "metadata": {},
   "outputs": [],
   "source": [
    "reviews=\"\"\n",
    "for j in range(len(link)):\n",
    "    for k in range(1,2):\n",
    "        new_soup=Searchreviews(link[j]+'&pageNumber='+str(k))\n",
    "        for i in new_soup.findAll(\"span\",{'data-hook':\"review-body\"}):\n",
    "            reviews = reviews + os.linesep + os.linesep + (i.text.strip())\n",
    "        if not new_soup.find('li', {'class': 'a-disabled a-last'}):\n",
    "            pass\n",
    "        else:\n",
    "            break \n",
    "# print(reviews)"
   ]
  },
  {
   "cell_type": "code",
   "execution_count": 62,
   "id": "4614c32d",
   "metadata": {},
   "outputs": [],
   "source": [
    "  save_file = open(\"product_reviews.txt\", \"w\")  \n",
    "save_file.write(\"Title: \"+ title + os.linesep + os.linesep)\n",
    "save_file.close() \n",
    "file = open(\"product_reviews.txt\", \"a\")\n",
    "file.write(\"Price: \"+ price + os.linesep + os.linesep)\n",
    "file.write(\"Specs: \"+json.dumps(specs_obj) + os.linesep + os.linesep)\n",
    "file.write(\"About Item: \"+json.dumps(about) + os.linesep + os.linesep)\n",
    "file.write(\"Total Review Count: \"+ total_review_count + os.linesep + os.linesep)\n",
    "file.write(\"Reviews:\" + reviews)\n",
    "file.close()"
   ]
  },
  {
   "cell_type": "code",
   "execution_count": null,
   "id": "2ab2a762",
   "metadata": {},
   "outputs": [],
   "source": []
  }
 ],
 "metadata": {
  "kernelspec": {
   "display_name": "Python 3 (ipykernel)",
   "language": "python",
   "name": "python3"
  },
  "language_info": {
   "codemirror_mode": {
    "name": "ipython",
    "version": 3
   },
   "file_extension": ".py",
   "mimetype": "text/x-python",
   "name": "python",
   "nbconvert_exporter": "python",
   "pygments_lexer": "ipython3",
   "version": "3.9.7"
  }
 },
 "nbformat": 4,
 "nbformat_minor": 5
}
